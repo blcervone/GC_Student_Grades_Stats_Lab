{
 "cells": [
  {
   "cell_type": "code",
   "execution_count": 32,
   "id": "fc31292a",
   "metadata": {},
   "outputs": [],
   "source": [
    "import numpy as np\n",
    "import pandas as pd\n",
    "import scipy\n",
    "import statistics as st"
   ]
  },
  {
   "cell_type": "code",
   "execution_count": 2,
   "id": "a9741cc2",
   "metadata": {},
   "outputs": [],
   "source": [
    "data = [\n",
    "    {'name': 'Adam', 'Math': 11, 'Science': 9, 'Reading': 16, 'History': 13.5},\n",
    "    {'name': 'Anna', 'Math': 12, 'Science': 11, 'Reading': 8.5, 'History': 10},\n",
    "    {'name': 'James', 'Math': 11, 'Science': 18, 'Reading': 11.5, 'History': 9},\n",
    "    {'name': 'Corey', 'Math': 7, 'Science': 15.5, 'Reading': 11, 'History': 14},\n",
    "    {'name': 'Alisha', 'Math': 9.5, 'Science': 12, 'Reading': 10.5, 'History': 14},\n",
    "    {'name': 'Jodie', 'Math': 15, 'Science': 18.5, 'Reading': 7, 'History': 12},\n",
    "    {'name': 'John', 'Math': 18, 'Science': 15.5, 'Reading': 11, 'History': 7.5},\n",
    "]"
   ]
  },
  {
   "cell_type": "code",
   "execution_count": 6,
   "id": "5adee051",
   "metadata": {},
   "outputs": [],
   "source": [
    "students_df = pd.DataFrame(data)"
   ]
  },
  {
   "cell_type": "code",
   "execution_count": 7,
   "id": "fd721c09",
   "metadata": {},
   "outputs": [
    {
     "data": {
      "text/html": [
       "<div>\n",
       "<style scoped>\n",
       "    .dataframe tbody tr th:only-of-type {\n",
       "        vertical-align: middle;\n",
       "    }\n",
       "\n",
       "    .dataframe tbody tr th {\n",
       "        vertical-align: top;\n",
       "    }\n",
       "\n",
       "    .dataframe thead th {\n",
       "        text-align: right;\n",
       "    }\n",
       "</style>\n",
       "<table border=\"1\" class=\"dataframe\">\n",
       "  <thead>\n",
       "    <tr style=\"text-align: right;\">\n",
       "      <th></th>\n",
       "      <th>name</th>\n",
       "      <th>Math</th>\n",
       "      <th>Science</th>\n",
       "      <th>Reading</th>\n",
       "      <th>History</th>\n",
       "    </tr>\n",
       "  </thead>\n",
       "  <tbody>\n",
       "    <tr>\n",
       "      <th>0</th>\n",
       "      <td>Adam</td>\n",
       "      <td>11.0</td>\n",
       "      <td>9.0</td>\n",
       "      <td>16.0</td>\n",
       "      <td>13.5</td>\n",
       "    </tr>\n",
       "    <tr>\n",
       "      <th>1</th>\n",
       "      <td>Anna</td>\n",
       "      <td>12.0</td>\n",
       "      <td>11.0</td>\n",
       "      <td>8.5</td>\n",
       "      <td>10.0</td>\n",
       "    </tr>\n",
       "    <tr>\n",
       "      <th>2</th>\n",
       "      <td>James</td>\n",
       "      <td>11.0</td>\n",
       "      <td>18.0</td>\n",
       "      <td>11.5</td>\n",
       "      <td>9.0</td>\n",
       "    </tr>\n",
       "    <tr>\n",
       "      <th>3</th>\n",
       "      <td>Corey</td>\n",
       "      <td>7.0</td>\n",
       "      <td>15.5</td>\n",
       "      <td>11.0</td>\n",
       "      <td>14.0</td>\n",
       "    </tr>\n",
       "    <tr>\n",
       "      <th>4</th>\n",
       "      <td>Alisha</td>\n",
       "      <td>9.5</td>\n",
       "      <td>12.0</td>\n",
       "      <td>10.5</td>\n",
       "      <td>14.0</td>\n",
       "    </tr>\n",
       "    <tr>\n",
       "      <th>5</th>\n",
       "      <td>Jodie</td>\n",
       "      <td>15.0</td>\n",
       "      <td>18.5</td>\n",
       "      <td>7.0</td>\n",
       "      <td>12.0</td>\n",
       "    </tr>\n",
       "    <tr>\n",
       "      <th>6</th>\n",
       "      <td>John</td>\n",
       "      <td>18.0</td>\n",
       "      <td>15.5</td>\n",
       "      <td>11.0</td>\n",
       "      <td>7.5</td>\n",
       "    </tr>\n",
       "  </tbody>\n",
       "</table>\n",
       "</div>"
      ],
      "text/plain": [
       "     name  Math  Science  Reading  History\n",
       "0    Adam  11.0      9.0     16.0     13.5\n",
       "1    Anna  12.0     11.0      8.5     10.0\n",
       "2   James  11.0     18.0     11.5      9.0\n",
       "3   Corey   7.0     15.5     11.0     14.0\n",
       "4  Alisha   9.5     12.0     10.5     14.0\n",
       "5   Jodie  15.0     18.5      7.0     12.0\n",
       "6    John  18.0     15.5     11.0      7.5"
      ]
     },
     "metadata": {},
     "output_type": "display_data"
    }
   ],
   "source": [
    "display(students_df)"
   ]
  },
  {
   "cell_type": "markdown",
   "id": "c773e77c",
   "metadata": {},
   "source": [
    "# QUESTION 1\n",
    "Calculate the mean for each individual subject.\n",
    "\n",
    "Find the median grade in Math for all students.\n",
    "\n",
    "Calculate the mode for History."
   ]
  },
  {
   "cell_type": "code",
   "execution_count": 18,
   "id": "c99cb57f",
   "metadata": {},
   "outputs": [
    {
     "name": "stdout",
     "output_type": "stream",
     "text": [
      "11.93\n"
     ]
    }
   ],
   "source": [
    "math_mean = students_df[\"Math\"].mean()\n",
    "math_mean = '{:.2f}'.format(math_mean)\n",
    "print(math_mean)"
   ]
  },
  {
   "cell_type": "code",
   "execution_count": 20,
   "id": "9d0cc5cc",
   "metadata": {},
   "outputs": [
    {
     "name": "stdout",
     "output_type": "stream",
     "text": [
      "14.21\n"
     ]
    }
   ],
   "source": [
    "sci_mean = students_df[\"Science\"].mean()\n",
    "sci_mean = '{:.2f}'.format(sci_mean)\n",
    "print(sci_mean)"
   ]
  },
  {
   "cell_type": "code",
   "execution_count": 21,
   "id": "60723dbf",
   "metadata": {},
   "outputs": [
    {
     "name": "stdout",
     "output_type": "stream",
     "text": [
      "10.79\n"
     ]
    }
   ],
   "source": [
    "read_mean = students_df[\"Reading\"].mean()\n",
    "read_mean = '{:.2f}'.format(read_mean)\n",
    "print(read_mean)"
   ]
  },
  {
   "cell_type": "code",
   "execution_count": 22,
   "id": "752a9cd5",
   "metadata": {},
   "outputs": [
    {
     "name": "stdout",
     "output_type": "stream",
     "text": [
      "11.43\n"
     ]
    }
   ],
   "source": [
    "hist_mean = students_df[\"History\"].mean()\n",
    "hist_mean = '{:.2f}'.format(hist_mean)\n",
    "print(hist_mean)"
   ]
  },
  {
   "cell_type": "code",
   "execution_count": 24,
   "id": "1749c30b",
   "metadata": {},
   "outputs": [
    {
     "name": "stdout",
     "output_type": "stream",
     "text": [
      "11.0\n"
     ]
    }
   ],
   "source": [
    "math_median = students_df[\"Math\"].median()\n",
    "print(math_median)"
   ]
  },
  {
   "cell_type": "code",
   "execution_count": 26,
   "id": "ac3e7004",
   "metadata": {},
   "outputs": [
    {
     "data": {
      "text/plain": [
       "ModeResult(mode=14.0, count=2)"
      ]
     },
     "execution_count": 26,
     "metadata": {},
     "output_type": "execute_result"
    }
   ],
   "source": [
    "scipy.stats.mode(students_df[\"History\"])"
   ]
  },
  {
   "cell_type": "markdown",
   "id": "6dbd101e",
   "metadata": {},
   "source": [
    "# QUESTION 2\n",
    "Given the following grades from Question 1, calculate the correlation between the different subjects. What two subjects have the strongest correlation?"
   ]
  },
  {
   "cell_type": "code",
   "execution_count": 27,
   "id": "ce1b6a6c",
   "metadata": {},
   "outputs": [
    {
     "data": {
      "text/html": [
       "<div>\n",
       "<style scoped>\n",
       "    .dataframe tbody tr th:only-of-type {\n",
       "        vertical-align: middle;\n",
       "    }\n",
       "\n",
       "    .dataframe tbody tr th {\n",
       "        vertical-align: top;\n",
       "    }\n",
       "\n",
       "    .dataframe thead th {\n",
       "        text-align: right;\n",
       "    }\n",
       "</style>\n",
       "<table border=\"1\" class=\"dataframe\">\n",
       "  <thead>\n",
       "    <tr style=\"text-align: right;\">\n",
       "      <th></th>\n",
       "      <th>Math</th>\n",
       "      <th>Science</th>\n",
       "      <th>Reading</th>\n",
       "      <th>History</th>\n",
       "    </tr>\n",
       "  </thead>\n",
       "  <tbody>\n",
       "    <tr>\n",
       "      <th>Math</th>\n",
       "      <td>1.000000</td>\n",
       "      <td>0.269494</td>\n",
       "      <td>-0.268562</td>\n",
       "      <td>-0.718358</td>\n",
       "    </tr>\n",
       "    <tr>\n",
       "      <th>Science</th>\n",
       "      <td>0.269494</td>\n",
       "      <td>1.000000</td>\n",
       "      <td>-0.527606</td>\n",
       "      <td>-0.358688</td>\n",
       "    </tr>\n",
       "    <tr>\n",
       "      <th>Reading</th>\n",
       "      <td>-0.268562</td>\n",
       "      <td>-0.527606</td>\n",
       "      <td>1.000000</td>\n",
       "      <td>0.206794</td>\n",
       "    </tr>\n",
       "    <tr>\n",
       "      <th>History</th>\n",
       "      <td>-0.718358</td>\n",
       "      <td>-0.358688</td>\n",
       "      <td>0.206794</td>\n",
       "      <td>1.000000</td>\n",
       "    </tr>\n",
       "  </tbody>\n",
       "</table>\n",
       "</div>"
      ],
      "text/plain": [
       "             Math   Science   Reading   History\n",
       "Math     1.000000  0.269494 -0.268562 -0.718358\n",
       "Science  0.269494  1.000000 -0.527606 -0.358688\n",
       "Reading -0.268562 -0.527606  1.000000  0.206794\n",
       "History -0.718358 -0.358688  0.206794  1.000000"
      ]
     },
     "execution_count": 27,
     "metadata": {},
     "output_type": "execute_result"
    }
   ],
   "source": [
    "students_df.corr(numeric_only = True)"
   ]
  },
  {
   "cell_type": "markdown",
   "id": "5e949f82",
   "metadata": {},
   "source": [
    "The strongest correlation is between Math and History. The correlation is -0.72. As shown, the correlation is strong but in a negative direction."
   ]
  },
  {
   "cell_type": "markdown",
   "id": "681456a4",
   "metadata": {},
   "source": [
    "# QUESTION 3\n",
    "Write a Python function named desc_stats() that takes a list of numbers and prints the following statistical calculations:\n",
    "Mean\n",
    "Median\n",
    "Mode\n",
    "Minimum\n",
    "Maximum\n",
    "Range\n",
    "Variance\n",
    "Standard deviation\n",
    "\n",
    "Use the  desc_stats() function to print the results of the exam scores.\n"
   ]
  },
  {
   "cell_type": "code",
   "execution_count": 57,
   "id": "46a97da2",
   "metadata": {},
   "outputs": [],
   "source": [
    "grades_list = np.array([24, 5, 15, 60, 54, 82, 99, 80, 70, 98, 93, 60, 33, 22, 65, 61, 51, 58, 83, 86, 42, 67, 60])"
   ]
  },
  {
   "cell_type": "code",
   "execution_count": 58,
   "id": "43b84dba",
   "metadata": {},
   "outputs": [
    {
     "name": "stdout",
     "output_type": "stream",
     "text": [
      "Mean: 59.48\n",
      "Median: 60\n",
      "Mode: 60\n",
      "Minimum: 5\n",
      "Maximum: 99\n",
      "Range: 94\n",
      "Variance: 664.16\n",
      "Standard Deviation: 25.77\n"
     ]
    }
   ],
   "source": [
    "def desc_stats(num_list):\n",
    "    print(f\"Mean: {'{:.2f}'.format(np.mean(num_list))}\")\n",
    "    print(f\"Median: {int(np.median(num_list))}\")\n",
    "    print(f\"Mode: {int(st.mode(num_list))}\")\n",
    "    print(f\"Minimum: {int(np.min(num_list))}\")\n",
    "    print(f\"Maximum: {int(np.max(num_list))}\")\n",
    "    print(f\"Range: {int(np.ptp(num_list))}\")\n",
    "    print(f\"Variance: {'{:.2f}'.format(np.var(num_list))}\")\n",
    "    print(f\"Standard Deviation: {'{:.2f}'.format(np.std(num_list))}\")\n",
    "\n",
    "\n",
    "desc_stats(grades_list)"
   ]
  },
  {
   "cell_type": "code",
   "execution_count": 60,
   "id": "49c7ce6d",
   "metadata": {},
   "outputs": [],
   "source": [
    "grades_df = pd.Series(grades_list)"
   ]
  },
  {
   "cell_type": "code",
   "execution_count": 61,
   "id": "be9fadfb",
   "metadata": {},
   "outputs": [
    {
     "data": {
      "text/plain": [
       "count    23.000000\n",
       "mean     59.478261\n",
       "std      26.350556\n",
       "min       5.000000\n",
       "25%      46.500000\n",
       "50%      60.000000\n",
       "75%      81.000000\n",
       "max      99.000000\n",
       "dtype: float64"
      ]
     },
     "execution_count": 61,
     "metadata": {},
     "output_type": "execute_result"
    }
   ],
   "source": [
    "grades_df.describe()"
   ]
  },
  {
   "cell_type": "raw",
   "id": "977f8ec2",
   "metadata": {},
   "source": []
  }
 ],
 "metadata": {
  "kernelspec": {
   "display_name": "Python 3 (ipykernel)",
   "language": "python",
   "name": "python3"
  },
  "language_info": {
   "codemirror_mode": {
    "name": "ipython",
    "version": 3
   },
   "file_extension": ".py",
   "mimetype": "text/x-python",
   "name": "python",
   "nbconvert_exporter": "python",
   "pygments_lexer": "ipython3",
   "version": "3.11.5"
  }
 },
 "nbformat": 4,
 "nbformat_minor": 5
}
